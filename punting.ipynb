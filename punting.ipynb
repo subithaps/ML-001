{
 "cells": [
  {
   "cell_type": "code",
   "execution_count": 1,
   "metadata": {
    "collapsed": true
   },
   "outputs": [],
   "source": [
    "import pandas as pd\n",
    "punting = pd.read_csv('punting.csv')"
   ]
  },
  {
   "cell_type": "code",
   "execution_count": 2,
   "metadata": {},
   "outputs": [
    {
     "data": {
      "text/html": [
       "<script>\n",
       "code_show=true; \n",
       "function code_toggle() {\n",
       " if (code_show){\n",
       " $('div.input').hide();\n",
       " } else {\n",
       " $('div.input').show();\n",
       " }\n",
       " code_show = !code_show\n",
       "} \n",
       "$( document ).ready(code_toggle);\n",
       "</script>\n",
       "<form action=\"javascript:code_toggle()\"><input type=\"submit\" value=\"Click here to toggle on/off the raw code.\"></form>"
      ],
      "text/plain": [
       "<IPython.core.display.HTML object>"
      ]
     },
     "execution_count": 2,
     "metadata": {},
     "output_type": "execute_result"
    }
   ],
   "source": [
    "from IPython.display import HTML\n",
    "\n",
    "HTML('''<script>\n",
    "code_show=true; \n",
    "function code_toggle() {\n",
    " if (code_show){\n",
    " $('div.input').hide();\n",
    " } else {\n",
    " $('div.input').show();\n",
    " }\n",
    " code_show = !code_show\n",
    "} \n",
    "$( document ).ready(code_toggle);\n",
    "</script>\n",
    "<form action=\"javascript:code_toggle()\"><input type=\"submit\" value=\"Click here to toggle on/off the raw code.\"></form>''')"
   ]
  },
  {
   "cell_type": "code",
   "execution_count": 3,
   "metadata": {},
   "outputs": [
    {
     "data": {
      "text/html": [
       "<div>\n",
       "<style>\n",
       "    .dataframe thead tr:only-child th {\n",
       "        text-align: right;\n",
       "    }\n",
       "\n",
       "    .dataframe thead th {\n",
       "        text-align: left;\n",
       "    }\n",
       "\n",
       "    .dataframe tbody tr th {\n",
       "        vertical-align: top;\n",
       "    }\n",
       "</style>\n",
       "<table border=\"1\" class=\"dataframe\">\n",
       "  <thead>\n",
       "    <tr style=\"text-align: right;\">\n",
       "      <th></th>\n",
       "      <th>Distance</th>\n",
       "      <th>Hang</th>\n",
       "      <th>R_Strength</th>\n",
       "      <th>L_Strength</th>\n",
       "      <th>R_Flexibility</th>\n",
       "      <th>L_Flexibility</th>\n",
       "      <th>O_Strength</th>\n",
       "    </tr>\n",
       "  </thead>\n",
       "  <tbody>\n",
       "    <tr>\n",
       "      <th>0</th>\n",
       "      <td>162.50</td>\n",
       "      <td>4.75</td>\n",
       "      <td>170</td>\n",
       "      <td>170</td>\n",
       "      <td>106</td>\n",
       "      <td>106</td>\n",
       "      <td>240.57</td>\n",
       "    </tr>\n",
       "    <tr>\n",
       "      <th>1</th>\n",
       "      <td>144.00</td>\n",
       "      <td>4.07</td>\n",
       "      <td>140</td>\n",
       "      <td>130</td>\n",
       "      <td>92</td>\n",
       "      <td>93</td>\n",
       "      <td>195.49</td>\n",
       "    </tr>\n",
       "    <tr>\n",
       "      <th>2</th>\n",
       "      <td>147.50</td>\n",
       "      <td>4.04</td>\n",
       "      <td>180</td>\n",
       "      <td>170</td>\n",
       "      <td>93</td>\n",
       "      <td>78</td>\n",
       "      <td>152.99</td>\n",
       "    </tr>\n",
       "    <tr>\n",
       "      <th>3</th>\n",
       "      <td>163.50</td>\n",
       "      <td>4.18</td>\n",
       "      <td>160</td>\n",
       "      <td>160</td>\n",
       "      <td>103</td>\n",
       "      <td>93</td>\n",
       "      <td>197.09</td>\n",
       "    </tr>\n",
       "    <tr>\n",
       "      <th>4</th>\n",
       "      <td>192.00</td>\n",
       "      <td>4.35</td>\n",
       "      <td>170</td>\n",
       "      <td>150</td>\n",
       "      <td>104</td>\n",
       "      <td>93</td>\n",
       "      <td>266.56</td>\n",
       "    </tr>\n",
       "    <tr>\n",
       "      <th>5</th>\n",
       "      <td>171.75</td>\n",
       "      <td>4.16</td>\n",
       "      <td>150</td>\n",
       "      <td>150</td>\n",
       "      <td>101</td>\n",
       "      <td>87</td>\n",
       "      <td>260.56</td>\n",
       "    </tr>\n",
       "    <tr>\n",
       "      <th>6</th>\n",
       "      <td>162.00</td>\n",
       "      <td>4.43</td>\n",
       "      <td>170</td>\n",
       "      <td>180</td>\n",
       "      <td>108</td>\n",
       "      <td>106</td>\n",
       "      <td>219.25</td>\n",
       "    </tr>\n",
       "    <tr>\n",
       "      <th>7</th>\n",
       "      <td>104.93</td>\n",
       "      <td>3.20</td>\n",
       "      <td>110</td>\n",
       "      <td>110</td>\n",
       "      <td>86</td>\n",
       "      <td>92</td>\n",
       "      <td>132.68</td>\n",
       "    </tr>\n",
       "    <tr>\n",
       "      <th>8</th>\n",
       "      <td>105.67</td>\n",
       "      <td>3.02</td>\n",
       "      <td>120</td>\n",
       "      <td>110</td>\n",
       "      <td>90</td>\n",
       "      <td>86</td>\n",
       "      <td>130.24</td>\n",
       "    </tr>\n",
       "    <tr>\n",
       "      <th>9</th>\n",
       "      <td>117.59</td>\n",
       "      <td>3.64</td>\n",
       "      <td>130</td>\n",
       "      <td>120</td>\n",
       "      <td>85</td>\n",
       "      <td>80</td>\n",
       "      <td>205.88</td>\n",
       "    </tr>\n",
       "    <tr>\n",
       "      <th>10</th>\n",
       "      <td>140.25</td>\n",
       "      <td>3.68</td>\n",
       "      <td>120</td>\n",
       "      <td>140</td>\n",
       "      <td>89</td>\n",
       "      <td>83</td>\n",
       "      <td>153.92</td>\n",
       "    </tr>\n",
       "    <tr>\n",
       "      <th>11</th>\n",
       "      <td>150.17</td>\n",
       "      <td>3.60</td>\n",
       "      <td>140</td>\n",
       "      <td>130</td>\n",
       "      <td>92</td>\n",
       "      <td>94</td>\n",
       "      <td>154.64</td>\n",
       "    </tr>\n",
       "    <tr>\n",
       "      <th>12</th>\n",
       "      <td>165.17</td>\n",
       "      <td>3.85</td>\n",
       "      <td>160</td>\n",
       "      <td>150</td>\n",
       "      <td>95</td>\n",
       "      <td>95</td>\n",
       "      <td>240.57</td>\n",
       "    </tr>\n",
       "  </tbody>\n",
       "</table>\n",
       "</div>"
      ],
      "text/plain": [
       "    Distance  Hang  R_Strength  L_Strength  R_Flexibility  L_Flexibility  \\\n",
       "0     162.50  4.75         170         170            106            106   \n",
       "1     144.00  4.07         140         130             92             93   \n",
       "2     147.50  4.04         180         170             93             78   \n",
       "3     163.50  4.18         160         160            103             93   \n",
       "4     192.00  4.35         170         150            104             93   \n",
       "5     171.75  4.16         150         150            101             87   \n",
       "6     162.00  4.43         170         180            108            106   \n",
       "7     104.93  3.20         110         110             86             92   \n",
       "8     105.67  3.02         120         110             90             86   \n",
       "9     117.59  3.64         130         120             85             80   \n",
       "10    140.25  3.68         120         140             89             83   \n",
       "11    150.17  3.60         140         130             92             94   \n",
       "12    165.17  3.85         160         150             95             95   \n",
       "\n",
       "    O_Strength  \n",
       "0       240.57  \n",
       "1       195.49  \n",
       "2       152.99  \n",
       "3       197.09  \n",
       "4       266.56  \n",
       "5       260.56  \n",
       "6       219.25  \n",
       "7       132.68  \n",
       "8       130.24  \n",
       "9       205.88  \n",
       "10      153.92  \n",
       "11      154.64  \n",
       "12      240.57  "
      ]
     },
     "execution_count": 3,
     "metadata": {},
     "output_type": "execute_result"
    }
   ],
   "source": [
    "punting"
   ]
  },
  {
   "cell_type": "code",
   "execution_count": 4,
   "metadata": {},
   "outputs": [
    {
     "name": "stdout",
     "output_type": "stream",
     "text": [
      "<class 'pandas.core.frame.DataFrame'>\n",
      "RangeIndex: 13 entries, 0 to 12\n",
      "Data columns (total 7 columns):\n",
      "Distance         13 non-null float64\n",
      "Hang             13 non-null float64\n",
      "R_Strength       13 non-null int64\n",
      "L_Strength       13 non-null int64\n",
      "R_Flexibility    13 non-null int64\n",
      "L_Flexibility    13 non-null int64\n",
      "O_Strength       13 non-null float64\n",
      "dtypes: float64(3), int64(4)\n",
      "memory usage: 808.0 bytes\n"
     ]
    }
   ],
   "source": [
    "punting.info()"
   ]
  },
  {
   "cell_type": "markdown",
   "metadata": {},
   "source": [
    "#### Data set has  13 samples and 7 variables. No categorical variables "
   ]
  },
  {
   "cell_type": "markdown",
   "metadata": {},
   "source": [
    "Variable\t\tDescription\n",
    "Distance\t\tDistance travelled in feet\n",
    "Hang\t\t    Time in air in seconds\n",
    "R_Strength\t\tRight leg strength in pounds\n",
    "L_Strength\t\tLeft leg strength in pounds\n",
    "R_Flexibility\tRight leg flexibility in degrees\n",
    "L_Flexibility\tLeft leg flexibility in degrees\n",
    "O_Strength\t\tOverall leg strength in pounds\n"
   ]
  },
  {
   "cell_type": "markdown",
   "metadata": {},
   "source": [
    "#### Statistical Information"
   ]
  },
  {
   "cell_type": "code",
   "execution_count": 5,
   "metadata": {},
   "outputs": [
    {
     "data": {
      "text/html": [
       "<div>\n",
       "<style>\n",
       "    .dataframe thead tr:only-child th {\n",
       "        text-align: right;\n",
       "    }\n",
       "\n",
       "    .dataframe thead th {\n",
       "        text-align: left;\n",
       "    }\n",
       "\n",
       "    .dataframe tbody tr th {\n",
       "        vertical-align: top;\n",
       "    }\n",
       "</style>\n",
       "<table border=\"1\" class=\"dataframe\">\n",
       "  <thead>\n",
       "    <tr style=\"text-align: right;\">\n",
       "      <th></th>\n",
       "      <th>Distance</th>\n",
       "      <th>Hang</th>\n",
       "      <th>R_Strength</th>\n",
       "      <th>L_Strength</th>\n",
       "      <th>R_Flexibility</th>\n",
       "      <th>L_Flexibility</th>\n",
       "      <th>O_Strength</th>\n",
       "    </tr>\n",
       "  </thead>\n",
       "  <tbody>\n",
       "    <tr>\n",
       "      <th>count</th>\n",
       "      <td>13.000000</td>\n",
       "      <td>13.000000</td>\n",
       "      <td>13.000000</td>\n",
       "      <td>13.000000</td>\n",
       "      <td>13.000000</td>\n",
       "      <td>13.000000</td>\n",
       "      <td>13.000000</td>\n",
       "    </tr>\n",
       "    <tr>\n",
       "      <th>mean</th>\n",
       "      <td>148.233077</td>\n",
       "      <td>3.920769</td>\n",
       "      <td>147.692308</td>\n",
       "      <td>143.846154</td>\n",
       "      <td>95.692308</td>\n",
       "      <td>91.230769</td>\n",
       "      <td>196.187692</td>\n",
       "    </tr>\n",
       "    <tr>\n",
       "      <th>std</th>\n",
       "      <td>25.970028</td>\n",
       "      <td>0.488850</td>\n",
       "      <td>22.786636</td>\n",
       "      <td>22.926863</td>\n",
       "      <td>7.792995</td>\n",
       "      <td>8.574709</td>\n",
       "      <td>47.805056</td>\n",
       "    </tr>\n",
       "    <tr>\n",
       "      <th>min</th>\n",
       "      <td>104.930000</td>\n",
       "      <td>3.020000</td>\n",
       "      <td>110.000000</td>\n",
       "      <td>110.000000</td>\n",
       "      <td>85.000000</td>\n",
       "      <td>78.000000</td>\n",
       "      <td>130.240000</td>\n",
       "    </tr>\n",
       "    <tr>\n",
       "      <th>25%</th>\n",
       "      <td>140.250000</td>\n",
       "      <td>3.640000</td>\n",
       "      <td>130.000000</td>\n",
       "      <td>130.000000</td>\n",
       "      <td>90.000000</td>\n",
       "      <td>86.000000</td>\n",
       "      <td>153.920000</td>\n",
       "    </tr>\n",
       "    <tr>\n",
       "      <th>50%</th>\n",
       "      <td>150.170000</td>\n",
       "      <td>4.040000</td>\n",
       "      <td>150.000000</td>\n",
       "      <td>150.000000</td>\n",
       "      <td>93.000000</td>\n",
       "      <td>93.000000</td>\n",
       "      <td>197.090000</td>\n",
       "    </tr>\n",
       "    <tr>\n",
       "      <th>75%</th>\n",
       "      <td>163.500000</td>\n",
       "      <td>4.180000</td>\n",
       "      <td>170.000000</td>\n",
       "      <td>160.000000</td>\n",
       "      <td>103.000000</td>\n",
       "      <td>94.000000</td>\n",
       "      <td>240.570000</td>\n",
       "    </tr>\n",
       "    <tr>\n",
       "      <th>max</th>\n",
       "      <td>192.000000</td>\n",
       "      <td>4.750000</td>\n",
       "      <td>180.000000</td>\n",
       "      <td>180.000000</td>\n",
       "      <td>108.000000</td>\n",
       "      <td>106.000000</td>\n",
       "      <td>266.560000</td>\n",
       "    </tr>\n",
       "  </tbody>\n",
       "</table>\n",
       "</div>"
      ],
      "text/plain": [
       "         Distance       Hang  R_Strength  L_Strength  R_Flexibility  \\\n",
       "count   13.000000  13.000000   13.000000   13.000000      13.000000   \n",
       "mean   148.233077   3.920769  147.692308  143.846154      95.692308   \n",
       "std     25.970028   0.488850   22.786636   22.926863       7.792995   \n",
       "min    104.930000   3.020000  110.000000  110.000000      85.000000   \n",
       "25%    140.250000   3.640000  130.000000  130.000000      90.000000   \n",
       "50%    150.170000   4.040000  150.000000  150.000000      93.000000   \n",
       "75%    163.500000   4.180000  170.000000  160.000000     103.000000   \n",
       "max    192.000000   4.750000  180.000000  180.000000     108.000000   \n",
       "\n",
       "       L_Flexibility  O_Strength  \n",
       "count      13.000000   13.000000  \n",
       "mean       91.230769  196.187692  \n",
       "std         8.574709   47.805056  \n",
       "min        78.000000  130.240000  \n",
       "25%        86.000000  153.920000  \n",
       "50%        93.000000  197.090000  \n",
       "75%        94.000000  240.570000  \n",
       "max       106.000000  266.560000  "
      ]
     },
     "execution_count": 5,
     "metadata": {},
     "output_type": "execute_result"
    }
   ],
   "source": [
    "punting.describe()"
   ]
  },
  {
   "cell_type": "markdown",
   "metadata": {},
   "source": [
    "#### From the count we can interpret there are no missing variables\n"
   ]
  },
  {
   "cell_type": "markdown",
   "metadata": {},
   "source": [
    "#### To get the column names"
   ]
  },
  {
   "cell_type": "code",
   "execution_count": 6,
   "metadata": {},
   "outputs": [
    {
     "data": {
      "text/plain": [
       "Index(['Distance', 'Hang', 'R_Strength', 'L_Strength', 'R_Flexibility',\n",
       "       'L_Flexibility', 'O_Strength'],\n",
       "      dtype='object')"
      ]
     },
     "execution_count": 6,
     "metadata": {},
     "output_type": "execute_result"
    }
   ],
   "source": [
    "punting.columns"
   ]
  },
  {
   "cell_type": "markdown",
   "metadata": {},
   "source": [
    "### Choosing the target variable"
   ]
  },
  {
   "cell_type": "markdown",
   "metadata": {},
   "source": [
    "#### Distance is the target variable and the predictor variables are 'Hang', 'R_Strength', 'L_Strength', 'R_Flexibility',  'L_Flexibility', 'O_Strength'"
   ]
  },
  {
   "cell_type": "code",
   "execution_count": 7,
   "metadata": {},
   "outputs": [
    {
     "data": {
      "text/html": [
       "<div>\n",
       "<style>\n",
       "    .dataframe thead tr:only-child th {\n",
       "        text-align: right;\n",
       "    }\n",
       "\n",
       "    .dataframe thead th {\n",
       "        text-align: left;\n",
       "    }\n",
       "\n",
       "    .dataframe tbody tr th {\n",
       "        vertical-align: top;\n",
       "    }\n",
       "</style>\n",
       "<table border=\"1\" class=\"dataframe\">\n",
       "  <thead>\n",
       "    <tr style=\"text-align: right;\">\n",
       "      <th></th>\n",
       "      <th>Distance</th>\n",
       "      <th>Hang</th>\n",
       "      <th>R_Strength</th>\n",
       "      <th>L_Strength</th>\n",
       "      <th>R_Flexibility</th>\n",
       "      <th>L_Flexibility</th>\n",
       "      <th>O_Strength</th>\n",
       "    </tr>\n",
       "  </thead>\n",
       "  <tbody>\n",
       "    <tr>\n",
       "      <th>Distance</th>\n",
       "      <td>1.000000</td>\n",
       "      <td>0.818854</td>\n",
       "      <td>0.791467</td>\n",
       "      <td>0.744030</td>\n",
       "      <td>0.806334</td>\n",
       "      <td>0.407743</td>\n",
       "      <td>0.796187</td>\n",
       "    </tr>\n",
       "    <tr>\n",
       "      <th>Hang</th>\n",
       "      <td>0.818854</td>\n",
       "      <td>1.000000</td>\n",
       "      <td>0.832066</td>\n",
       "      <td>0.862209</td>\n",
       "      <td>0.845080</td>\n",
       "      <td>0.532747</td>\n",
       "      <td>0.755800</td>\n",
       "    </tr>\n",
       "    <tr>\n",
       "      <th>R_Strength</th>\n",
       "      <td>0.791467</td>\n",
       "      <td>0.832066</td>\n",
       "      <td>1.000000</td>\n",
       "      <td>0.895722</td>\n",
       "      <td>0.774677</td>\n",
       "      <td>0.356948</td>\n",
       "      <td>0.606545</td>\n",
       "    </tr>\n",
       "    <tr>\n",
       "      <th>L_Strength</th>\n",
       "      <td>0.744030</td>\n",
       "      <td>0.862209</td>\n",
       "      <td>0.895722</td>\n",
       "      <td>1.000000</td>\n",
       "      <td>0.814068</td>\n",
       "      <td>0.423239</td>\n",
       "      <td>0.523076</td>\n",
       "    </tr>\n",
       "    <tr>\n",
       "      <th>R_Flexibility</th>\n",
       "      <td>0.806334</td>\n",
       "      <td>0.845080</td>\n",
       "      <td>0.774677</td>\n",
       "      <td>0.814068</td>\n",
       "      <td>1.000000</td>\n",
       "      <td>0.689540</td>\n",
       "      <td>0.690284</td>\n",
       "    </tr>\n",
       "    <tr>\n",
       "      <th>L_Flexibility</th>\n",
       "      <td>0.407743</td>\n",
       "      <td>0.532747</td>\n",
       "      <td>0.356948</td>\n",
       "      <td>0.423239</td>\n",
       "      <td>0.689540</td>\n",
       "      <td>1.000000</td>\n",
       "      <td>0.408123</td>\n",
       "    </tr>\n",
       "    <tr>\n",
       "      <th>O_Strength</th>\n",
       "      <td>0.796187</td>\n",
       "      <td>0.755800</td>\n",
       "      <td>0.606545</td>\n",
       "      <td>0.523076</td>\n",
       "      <td>0.690284</td>\n",
       "      <td>0.408123</td>\n",
       "      <td>1.000000</td>\n",
       "    </tr>\n",
       "  </tbody>\n",
       "</table>\n",
       "</div>"
      ],
      "text/plain": [
       "               Distance      Hang  R_Strength  L_Strength  R_Flexibility  \\\n",
       "Distance       1.000000  0.818854    0.791467    0.744030       0.806334   \n",
       "Hang           0.818854  1.000000    0.832066    0.862209       0.845080   \n",
       "R_Strength     0.791467  0.832066    1.000000    0.895722       0.774677   \n",
       "L_Strength     0.744030  0.862209    0.895722    1.000000       0.814068   \n",
       "R_Flexibility  0.806334  0.845080    0.774677    0.814068       1.000000   \n",
       "L_Flexibility  0.407743  0.532747    0.356948    0.423239       0.689540   \n",
       "O_Strength     0.796187  0.755800    0.606545    0.523076       0.690284   \n",
       "\n",
       "               L_Flexibility  O_Strength  \n",
       "Distance            0.407743    0.796187  \n",
       "Hang                0.532747    0.755800  \n",
       "R_Strength          0.356948    0.606545  \n",
       "L_Strength          0.423239    0.523076  \n",
       "R_Flexibility       0.689540    0.690284  \n",
       "L_Flexibility       1.000000    0.408123  \n",
       "O_Strength          0.408123    1.000000  "
      ]
     },
     "execution_count": 7,
     "metadata": {},
     "output_type": "execute_result"
    }
   ],
   "source": [
    "punting.corr()"
   ]
  },
  {
   "cell_type": "code",
   "execution_count": 8,
   "metadata": {
    "collapsed": true
   },
   "outputs": [],
   "source": [
    "import seaborn as sns\n",
    "%matplotlib inline"
   ]
  },
  {
   "cell_type": "code",
   "execution_count": 9,
   "metadata": {},
   "outputs": [
    {
     "data": {
      "text/plain": [
       "<matplotlib.axes._subplots.AxesSubplot at 0x1d55f1bd198>"
      ]
     },
     "execution_count": 9,
     "metadata": {},
     "output_type": "execute_result"
    },
    {
     "data": {
      "image/png": "[encoded data removed]",
      "text/plain": [
       "<matplotlib.figure.Figure at 0x1d55f18b5f8>"
      ]
     },
     "metadata": {},
     "output_type": "display_data"
    }
   ],
   "source": [
    "sns.heatmap(punting.corr(), annot =True)"
   ]
  },
  {
   "cell_type": "code",
   "execution_count": 10,
   "metadata": {
    "collapsed": true
   },
   "outputs": [],
   "source": [
    "#sns.pairplot(punting)"
   ]
  },
  {
   "cell_type": "code",
   "execution_count": 11,
   "metadata": {},
   "outputs": [
    {
     "data": {
      "text/plain": [
       "<matplotlib.axes._subplots.AxesSubplot at 0x1d55f796e48>"
      ]
     },
     "execution_count": 11,
     "metadata": {},
     "output_type": "execute_result"
    },
    {
     "data": {
      "image/png": "[encoded data removed]",
      "text/plain": [
       "<matplotlib.figure.Figure at 0x1d55f6345f8>"
      ]
     },
     "metadata": {},
     "output_type": "display_data"
    }
   ],
   "source": [
    "sns.distplot(punting['Distance'])"
   ]
  },
  {
   "cell_type": "code",
   "execution_count": 12,
   "metadata": {
    "collapsed": true
   },
   "outputs": [],
   "source": [
    "x = punting[['Hang', 'R_Strength', 'L_Strength', 'R_Flexibility',\n",
    "       'L_Flexibility', 'O_Strength']]"
   ]
  },
  {
   "cell_type": "code",
   "execution_count": 13,
   "metadata": {
    "collapsed": true
   },
   "outputs": [],
   "source": [
    "#x"
   ]
  },
  {
   "cell_type": "code",
   "execution_count": 14,
   "metadata": {
    "collapsed": true
   },
   "outputs": [],
   "source": [
    "y = punting['Distance']"
   ]
  },
  {
   "cell_type": "markdown",
   "metadata": {},
   "source": [
    "#### Splitting the dataset into Train and Test set(80:20)"
   ]
  },
  {
   "cell_type": "code",
   "execution_count": 15,
   "metadata": {
    "collapsed": true
   },
   "outputs": [],
   "source": [
    "from sklearn.model_selection import train_test_split\n",
    "from sklearn.linear_model import LinearRegression"
   ]
  },
  {
   "cell_type": "code",
   "execution_count": 16,
   "metadata": {
    "collapsed": true
   },
   "outputs": [],
   "source": [
    "x_train,x_test,y_train,y_test = train_test_split(x,y, test_size = 0.2, random_state=10)"
   ]
  },
  {
   "cell_type": "code",
   "execution_count": 17,
   "metadata": {
    "collapsed": true
   },
   "outputs": [],
   "source": [
    "#y_test"
   ]
  },
  {
   "cell_type": "code",
   "execution_count": 18,
   "metadata": {
    "collapsed": true
   },
   "outputs": [],
   "source": [
    "lm = LinearRegression()"
   ]
  },
  {
   "cell_type": "code",
   "execution_count": 19,
   "metadata": {},
   "outputs": [
    {
     "data": {
      "text/plain": [
       "LinearRegression(copy_X=True, fit_intercept=True, n_jobs=1, normalize=False)"
      ]
     },
     "execution_count": 19,
     "metadata": {},
     "output_type": "execute_result"
    }
   ],
   "source": [
    "lm.fit(x_train, y_train)"
   ]
  },
  {
   "cell_type": "markdown",
   "metadata": {},
   "source": [
    "#### y-intercept\n"
   ]
  },
  {
   "cell_type": "code",
   "execution_count": 20,
   "metadata": {},
   "outputs": [
    {
     "data": {
      "text/plain": [
       "-21.911923864987472"
      ]
     },
     "execution_count": 20,
     "metadata": {},
     "output_type": "execute_result"
    }
   ],
   "source": [
    "lm.intercept_"
   ]
  },
  {
   "cell_type": "markdown",
   "metadata": {},
   "source": [
    "#### coefficients"
   ]
  },
  {
   "cell_type": "code",
   "execution_count": 21,
   "metadata": {},
   "outputs": [
    {
     "data": {
      "text/plain": [
       "array([ 2.79237551,  0.06289208,  0.25829689,  1.29299176, -0.78460801,\n",
       "        0.29414243])"
      ]
     },
     "execution_count": 21,
     "metadata": {},
     "output_type": "execute_result"
    }
   ],
   "source": [
    "lm.coef_"
   ]
  },
  {
   "cell_type": "code",
   "execution_count": 22,
   "metadata": {},
   "outputs": [
    {
     "data": {
      "text/html": [
       "<div>\n",
       "<style>\n",
       "    .dataframe thead tr:only-child th {\n",
       "        text-align: right;\n",
       "    }\n",
       "\n",
       "    .dataframe thead th {\n",
       "        text-align: left;\n",
       "    }\n",
       "\n",
       "    .dataframe tbody tr th {\n",
       "        vertical-align: top;\n",
       "    }\n",
       "</style>\n",
       "<table border=\"1\" class=\"dataframe\">\n",
       "  <thead>\n",
       "    <tr style=\"text-align: right;\">\n",
       "      <th></th>\n",
       "      <th>coeff</th>\n",
       "    </tr>\n",
       "  </thead>\n",
       "  <tbody>\n",
       "    <tr>\n",
       "      <th>Hang</th>\n",
       "      <td>2.792376</td>\n",
       "    </tr>\n",
       "    <tr>\n",
       "      <th>R_Strength</th>\n",
       "      <td>0.062892</td>\n",
       "    </tr>\n",
       "    <tr>\n",
       "      <th>L_Strength</th>\n",
       "      <td>0.258297</td>\n",
       "    </tr>\n",
       "    <tr>\n",
       "      <th>R_Flexibility</th>\n",
       "      <td>1.292992</td>\n",
       "    </tr>\n",
       "    <tr>\n",
       "      <th>L_Flexibility</th>\n",
       "      <td>-0.784608</td>\n",
       "    </tr>\n",
       "    <tr>\n",
       "      <th>O_Strength</th>\n",
       "      <td>0.294142</td>\n",
       "    </tr>\n",
       "  </tbody>\n",
       "</table>\n",
       "</div>"
      ],
      "text/plain": [
       "                  coeff\n",
       "Hang           2.792376\n",
       "R_Strength     0.062892\n",
       "L_Strength     0.258297\n",
       "R_Flexibility  1.292992\n",
       "L_Flexibility -0.784608\n",
       "O_Strength     0.294142"
      ]
     },
     "execution_count": 22,
     "metadata": {},
     "output_type": "execute_result"
    }
   ],
   "source": [
    "pd.DataFrame(lm.coef_,x.columns, columns=['coeff'])"
   ]
  },
  {
   "cell_type": "markdown",
   "metadata": {},
   "source": [
    "#### predicting the y values for the test dataset(x_test)"
   ]
  },
  {
   "cell_type": "code",
   "execution_count": 23,
   "metadata": {
    "collapsed": true
   },
   "outputs": [],
   "source": [
    "predictions = lm.predict(x_test)"
   ]
  },
  {
   "cell_type": "code",
   "execution_count": 24,
   "metadata": {},
   "outputs": [
    {
     "data": {
      "text/plain": [
       "array([ 159.33257762,  100.39463555,  121.21238812])"
      ]
     },
     "execution_count": 24,
     "metadata": {},
     "output_type": "execute_result"
    }
   ],
   "source": [
    "predictions"
   ]
  },
  {
   "cell_type": "markdown",
   "metadata": {},
   "source": [
    "#### plot showing the actual value and predicted value\n"
   ]
  },
  {
   "cell_type": "code",
   "execution_count": 25,
   "metadata": {},
   "outputs": [
    {
     "data": {
      "text/plain": [
       "<matplotlib.axes._subplots.AxesSubplot at 0x1d55fbde9b0>"
      ]
     },
     "execution_count": 25,
     "metadata": {},
     "output_type": "execute_result"
    },
    {
     "data": {
      "image/png": "[encoded data removed]",
      "text/plain": [
       "<matplotlib.figure.Figure at 0x1d55fb8efd0>"
      ]
     },
     "metadata": {},
     "output_type": "display_data"
    }
   ],
   "source": [
    "sns.regplot(y_test, predictions)"
   ]
  },
  {
   "cell_type": "code",
   "execution_count": 26,
   "metadata": {
    "collapsed": true
   },
   "outputs": [],
   "source": [
    "#sns.distplot((y_test-predictions))"
   ]
  },
  {
   "cell_type": "code",
   "execution_count": 27,
   "metadata": {
    "collapsed": true
   },
   "outputs": [],
   "source": [
    "#lm.score(x,y)"
   ]
  },
  {
   "cell_type": "code",
   "execution_count": 28,
   "metadata": {
    "collapsed": true
   },
   "outputs": [],
   "source": [
    "from sklearn import metrics"
   ]
  },
  {
   "cell_type": "markdown",
   "metadata": {},
   "source": [
    "#### mean absolute error\n",
    "\n"
   ]
  },
  {
   "cell_type": "code",
   "execution_count": 29,
   "metadata": {},
   "outputs": [
    {
     "data": {
      "text/plain": [
       "12.553466235849493"
      ]
     },
     "execution_count": 29,
     "metadata": {},
     "output_type": "execute_result"
    }
   ],
   "source": [
    "metrics.mean_absolute_error(y_test,predictions)"
   ]
  },
  {
   "cell_type": "markdown",
   "metadata": {},
   "source": [
    "#### mean squared error\n"
   ]
  },
  {
   "cell_type": "code",
   "execution_count": 30,
   "metadata": {},
   "outputs": [
    {
     "data": {
      "text/plain": [
       "292.16007522202602"
      ]
     },
     "execution_count": 30,
     "metadata": {},
     "output_type": "execute_result"
    }
   ],
   "source": [
    "metrics.mean_squared_error(y_test,predictions)"
   ]
  },
  {
   "cell_type": "markdown",
   "metadata": {},
   "source": [
    "#### root mean squared error\n"
   ]
  },
  {
   "cell_type": "code",
   "execution_count": 31,
   "metadata": {},
   "outputs": [
    {
     "data": {
      "text/plain": [
       "17.092690695792339"
      ]
     },
     "execution_count": 31,
     "metadata": {},
     "output_type": "execute_result"
    }
   ],
   "source": [
    "import numpy as np\n",
    "np.sqrt(metrics.mean_squared_error(y_test,predictions))"
   ]
  },
  {
   "cell_type": "markdown",
   "metadata": {},
   "source": [
    "#### R-squared value\n"
   ]
  },
  {
   "cell_type": "code",
   "execution_count": 32,
   "metadata": {},
   "outputs": [
    {
     "name": "stdout",
     "output_type": "stream",
     "text": [
      "R^2 = 0.78582144583\n"
     ]
    }
   ],
   "source": [
    "print('R^2 =',metrics.explained_variance_score(y_test,predictions))"
   ]
  },
  {
   "cell_type": "markdown",
   "metadata": {},
   "source": [
    "#### Testing with actual data [5,180,185,110,110,267]"
   ]
  },
  {
   "cell_type": "code",
   "execution_count": 33,
   "metadata": {},
   "outputs": [
    {
     "data": {
      "text/plain": [
       "array([[  5, 180, 185, 110, 110, 267]])"
      ]
     },
     "execution_count": 33,
     "metadata": {},
     "output_type": "execute_result"
    }
   ],
   "source": [
    "test_data = [5,180,185,110,110,267]\n",
    "#test_data = [3.2,110,110,86,92,132.68]\n",
    "import numpy as np\n",
    "test_data = np.array(test_data).reshape(1,-1)\n",
    "test_data"
   ]
  },
  {
   "cell_type": "code",
   "execution_count": 34,
   "metadata": {
    "collapsed": true
   },
   "outputs": [],
   "source": [
    "prediction = lm.predict(test_data)"
   ]
  },
  {
   "cell_type": "markdown",
   "metadata": {},
   "source": [
    "#### predicted distance\n"
   ]
  },
  {
   "cell_type": "code",
   "execution_count": 35,
   "metadata": {},
   "outputs": [
    {
     "data": {
      "text/plain": [
       "array([ 185.61369268])"
      ]
     },
     "execution_count": 35,
     "metadata": {},
     "output_type": "execute_result"
    }
   ],
   "source": [
    "prediction"
   ]
  },
  {
   "cell_type": "code",
   "execution_count": null,
   "metadata": {
    "collapsed": true
   },
   "outputs": [],
   "source": []
  }
 ],
 "metadata": {
  "kernelspec": {
   "display_name": "Python 3",
   "language": "python",
   "name": "python3"
  },
  "language_info": {
   "codemirror_mode": {
    "name": "ipython",
    "version": 3
   },
   "file_extension": ".py",
   "mimetype": "text/x-python",
   "name": "python",
   "nbconvert_exporter": "python",
   "pygments_lexer": "ipython3",
   "version": "3.5.3"
  }
 },
 "nbformat": 4,
 "nbformat_minor": 2
}
